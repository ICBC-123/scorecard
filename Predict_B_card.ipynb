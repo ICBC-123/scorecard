{
 "cells": [
  {
   "cell_type": "code",
   "execution_count": 58,
   "metadata": {},
   "outputs": [],
   "source": [
    "import numpy as np\n",
    "import pandas as pd\n",
    "import os\n",
    "os.chdir('E:\\studyingPy\\C_card\\lending_club')\n",
    "from woebin import *\n",
    "from var_filter import *\n",
    "from perf import *\n",
    "from scorecard import *\n",
    "from splitdf import *\n",
    "#from tree import *\n",
    "from tqdm import tqdm\n",
    "os.chdir('E:\\studyingPy\\C_card')"
   ]
  },
  {
   "cell_type": "code",
   "execution_count": 59,
   "metadata": {},
   "outputs": [],
   "source": [
    "#加载模型\n",
    "from sklearn.externals import joblib\n",
    "lr=joblib.load('E:\\studyingPy\\C_card\\lr.model')\n",
    "tree = joblib.load('E:\\studyingPy\\C_card\\\\tree.model')\n",
    "GBDT = joblib.load('E:\\studyingPy\\C_card\\GBDT.model')"
   ]
  },
  {
   "cell_type": "code",
   "execution_count": 87,
   "metadata": {},
   "outputs": [],
   "source": [
    "#加载验证集\n",
    "testset = pd.read_csv('E:/studyingPy/C_card/testdata.csv',index_col = 'ID')"
   ]
  },
  {
   "cell_type": "code",
   "execution_count": 88,
   "metadata": {
    "scrolled": true
   },
   "outputs": [
    {
     "data": {
      "text/plain": [
       "(63532, 52)"
      ]
     },
     "execution_count": 88,
     "metadata": {},
     "output_type": "execute_result"
    }
   ],
   "source": [
    "testset.shape"
   ]
  },
  {
   "cell_type": "code",
   "execution_count": 89,
   "metadata": {},
   "outputs": [
    {
     "data": {
      "text/plain": [
       "Index(['ID_NO_IDENT', 'LIMIT_BAL', 'SEX', 'EDUCATION', 'JOB_TYPE', 'MARRIAGE',\n",
       "       'ZIP_CODE', 'AGE', 'CASE_FROM', 'PAY_1', 'PAY_2', 'PAY_3', 'PAY_4',\n",
       "       'PAY_5', 'PAY_6', 'BILL_AMT1', 'BILL_AMT2', 'BILL_AMT3', 'BILL_AMT4',\n",
       "       'BILL_AMT5', 'BILL_AMT6', 'PAY_AMT1', 'PAY_AMT2', 'PAY_AMT3',\n",
       "       'PAY_AMT4', 'PAY_AMT5', 'PAY_AMT6', 'CUST_TYPE', 'LIMIT_RATE_1',\n",
       "       'LIMIT_RATE_2', 'LIMIT_RATE_3', 'LIMIT_RATE_4', 'LIMIT_RATE_5',\n",
       "       'LIMIT_RATE_6', 'REPAY_RATE_1', 'REPAY_RATE_2', 'REPAY_RATE_3',\n",
       "       'REPAY_RATE_4', 'REPAY_RATE_5', 'REPAY_RATE_6', 'ALL_MON',\n",
       "       'OVERDUE_CNT_3', 'OVERDUE_MAX_MON', 'USE_MON', 'Hrisk_rate',\n",
       "       'Mrisk_rate', 'Lrisk_rate', 'XF_CNT_M', 'XF_AMT_M', 'RZ_CNT_M',\n",
       "       'RZ_AMT_M', 'XF_AMT_CNT'],\n",
       "      dtype='object')"
      ]
     },
     "execution_count": 89,
     "metadata": {},
     "output_type": "execute_result"
    }
   ],
   "source": [
    "testset.columns"
   ]
  },
  {
   "cell_type": "code",
   "execution_count": 90,
   "metadata": {},
   "outputs": [],
   "source": [
    "important_feature=['ID_NO_IDENT','LIMIT_RATE_2', 'CASE_FROM', 'LIMIT_RATE_6', 'JOB_TYPE', 'LIMIT_RATE_1', 'RZ_CNT_M', 'LIMIT_RATE_4', 'Mrisk_rate', 'PAY_AMT6', 'PAY_4', 'PAY_3', 'REPAY_RATE_6', 'OVERDUE_CNT_3', 'LIMIT_RATE_3', 'XF_AMT_M', 'XF_CNT_M', 'XF_AMT_CNT', 'PAY_2', 'PAY_5', 'REPAY_RATE_4', 'LIMIT_RATE_5', 'PAY_1', 'REPAY_RATE_3', 'OVERDUE_MAX_MON', 'REPAY_RATE_2', 'PAY_AMT2', 'PAY_AMT5', 'Lrisk_rate', 'RZ_AMT_M', 'PAY_AMT3', 'REPAY_RATE_5', 'ZIP_CODE', 'LIMIT_BAL', 'PAY_6', 'PAY_AMT4', 'REPAY_RATE_1', 'PAY_AMT1']\n",
    "#important_feature=['ID_NO_IDENT','LIMIT_RATE_2', 'CASE_FROM', 'LIMIT_RATE_6', 'LIMIT_RATE_1', 'RZ_CNT_M', 'LIMIT_RATE_4', 'Mrisk_rate', 'PAY_AMT6', 'PAY_4', 'PAY_3', 'REPAY_RATE_6', 'OVERDUE_CNT_3', 'LIMIT_RATE_3', 'XF_AMT_M', 'XF_CNT_M', 'XF_AMT_CNT', 'PAY_2', 'PAY_5', 'REPAY_RATE_4', 'LIMIT_RATE_5', 'PAY_1', 'REPAY_RATE_3', 'OVERDUE_MAX_MON', 'REPAY_RATE_2', 'PAY_AMT2', 'PAY_AMT5', 'Lrisk_rate', 'RZ_AMT_M', 'PAY_AMT3', 'REPAY_RATE_5', 'ZIP_CODE', 'LIMIT_BAL', 'PAY_6', 'PAY_AMT4', 'REPAY_RATE_1', 'PAY_AMT1']"
   ]
  },
  {
   "cell_type": "code",
   "execution_count": 91,
   "metadata": {},
   "outputs": [],
   "source": [
    "test = testset[important_feature]"
   ]
  },
  {
   "cell_type": "code",
   "execution_count": 92,
   "metadata": {},
   "outputs": [
    {
     "data": {
      "text/plain": [
       "PAY_AMT1           0.0\n",
       "PAY_AMT6           0.0\n",
       "XF_CNT_M           0.0\n",
       "XF_AMT_M           0.0\n",
       "LIMIT_RATE_3       0.0\n",
       "OVERDUE_CNT_3      0.0\n",
       "REPAY_RATE_6       0.0\n",
       "PAY_3              0.0\n",
       "PAY_4              0.0\n",
       "Mrisk_rate         0.0\n",
       "REPAY_RATE_1       0.0\n",
       "LIMIT_RATE_4       0.0\n",
       "RZ_CNT_M           0.0\n",
       "LIMIT_RATE_1       0.0\n",
       "JOB_TYPE           0.0\n",
       "LIMIT_RATE_6       0.0\n",
       "CASE_FROM          0.0\n",
       "LIMIT_RATE_2       0.0\n",
       "XF_AMT_CNT         0.0\n",
       "PAY_2              0.0\n",
       "PAY_5              0.0\n",
       "REPAY_RATE_4       0.0\n",
       "PAY_AMT4           0.0\n",
       "PAY_6              0.0\n",
       "LIMIT_BAL          0.0\n",
       "ZIP_CODE           0.0\n",
       "REPAY_RATE_5       0.0\n",
       "PAY_AMT3           0.0\n",
       "RZ_AMT_M           0.0\n",
       "Lrisk_rate         0.0\n",
       "PAY_AMT5           0.0\n",
       "PAY_AMT2           0.0\n",
       "REPAY_RATE_2       0.0\n",
       "OVERDUE_MAX_MON    0.0\n",
       "REPAY_RATE_3       0.0\n",
       "PAY_1              0.0\n",
       "LIMIT_RATE_5       0.0\n",
       "ID_NO_IDENT        0.0\n",
       "dtype: float64"
      ]
     },
     "execution_count": 92,
     "metadata": {},
     "output_type": "execute_result"
    }
   ],
   "source": [
    "#查看数据的缺失程度\n",
    "test.isnull().sum(axis=0).sort_values(ascending=False)/float(len(test))"
   ]
  },
  {
   "cell_type": "code",
   "execution_count": 93,
   "metadata": {
    "scrolled": true
   },
   "outputs": [
    {
     "name": "stderr",
     "output_type": "stream",
     "text": [
      "C:\\ProgramData\\Anaconda3\\lib\\site-packages\\ipykernel_launcher.py:2: SettingWithCopyWarning: \n",
      "A value is trying to be set on a copy of a slice from a DataFrame.\n",
      "Try using .loc[row_indexer,col_indexer] = value instead\n",
      "\n",
      "See the caveats in the documentation: http://pandas.pydata.org/pandas-docs/stable/indexing.html#indexing-view-versus-copy\n",
      "  \n",
      "C:\\ProgramData\\Anaconda3\\lib\\site-packages\\ipykernel_launcher.py:3: SettingWithCopyWarning: \n",
      "A value is trying to be set on a copy of a slice from a DataFrame.\n",
      "Try using .loc[row_indexer,col_indexer] = value instead\n",
      "\n",
      "See the caveats in the documentation: http://pandas.pydata.org/pandas-docs/stable/indexing.html#indexing-view-versus-copy\n",
      "  This is separate from the ipykernel package so we can avoid doing imports until\n",
      "C:\\ProgramData\\Anaconda3\\lib\\site-packages\\ipykernel_launcher.py:4: SettingWithCopyWarning: \n",
      "A value is trying to be set on a copy of a slice from a DataFrame.\n",
      "Try using .loc[row_indexer,col_indexer] = value instead\n",
      "\n",
      "See the caveats in the documentation: http://pandas.pydata.org/pandas-docs/stable/indexing.html#indexing-view-versus-copy\n",
      "  after removing the cwd from sys.path.\n",
      "C:\\ProgramData\\Anaconda3\\lib\\site-packages\\ipykernel_launcher.py:5: SettingWithCopyWarning: \n",
      "A value is trying to be set on a copy of a slice from a DataFrame.\n",
      "Try using .loc[row_indexer,col_indexer] = value instead\n",
      "\n",
      "See the caveats in the documentation: http://pandas.pydata.org/pandas-docs/stable/indexing.html#indexing-view-versus-copy\n",
      "  \"\"\"\n",
      "C:\\ProgramData\\Anaconda3\\lib\\site-packages\\ipykernel_launcher.py:6: SettingWithCopyWarning: \n",
      "A value is trying to be set on a copy of a slice from a DataFrame.\n",
      "Try using .loc[row_indexer,col_indexer] = value instead\n",
      "\n",
      "See the caveats in the documentation: http://pandas.pydata.org/pandas-docs/stable/indexing.html#indexing-view-versus-copy\n",
      "  \n",
      "C:\\ProgramData\\Anaconda3\\lib\\site-packages\\ipykernel_launcher.py:7: SettingWithCopyWarning: \n",
      "A value is trying to be set on a copy of a slice from a DataFrame.\n",
      "Try using .loc[row_indexer,col_indexer] = value instead\n",
      "\n",
      "See the caveats in the documentation: http://pandas.pydata.org/pandas-docs/stable/indexing.html#indexing-view-versus-copy\n",
      "  import sys\n"
     ]
    }
   ],
   "source": [
    "#将测试集中支付码状态空调整为Z\n",
    "test['PAY_1']=[*map(lambda x: 'Z' if str(x).isspace() else x,test['PAY_1'])]\n",
    "test['PAY_2']=[*map(lambda x: 'Z' if str(x).isspace() else x,test['PAY_2'])]\n",
    "test['PAY_3']=[*map(lambda x: 'Z' if str(x).isspace() else x,test['PAY_3'])]\n",
    "test['PAY_4']=[*map(lambda x: 'Z' if str(x).isspace() else x,test['PAY_4'])]\n",
    "test['PAY_5']=[*map(lambda x: 'Z' if str(x).isspace() else x,test['PAY_5'])]\n",
    "test['PAY_6']=[*map(lambda x: 'Z' if str(x).isspace() else x,test['PAY_6'])]"
   ]
  },
  {
   "cell_type": "code",
   "execution_count": 94,
   "metadata": {},
   "outputs": [],
   "source": [
    "#将已保存好的bins_adj文件调用\n",
    "import pickle\n",
    "# 使用pickle包中的load函数把写入的文件反序列化\n",
    "load_file = open('bins_adj.dat', 'rb')\n",
    "# 把反序列化的信息读取出来\n",
    "bins_adj = pickle.load(load_file)\n",
    "load_file.close()"
   ]
  },
  {
   "cell_type": "code",
   "execution_count": 95,
   "metadata": {
    "scrolled": true
   },
   "outputs": [
    {
     "name": "stderr",
     "output_type": "stream",
     "text": [
      "100%|██████████████████████████████████████████| 37/37 [00:04<00:00,  7.93it/s]\n",
      "C:\\ProgramData\\Anaconda3\\lib\\site-packages\\pandas\\core\\frame.py:3137: SettingWithCopyWarning: \n",
      "A value is trying to be set on a copy of a slice from a DataFrame.\n",
      "Try using .loc[row_indexer,col_indexer] = value instead\n",
      "\n",
      "See the caveats in the documentation: http://pandas.pydata.org/pandas-docs/stable/indexing.html#indexing-view-versus-copy\n",
      "  self[k1] = value[k2]\n"
     ]
    }
   ],
   "source": [
    "#convert test values into woe values\n",
    "test_woe_all = pd.DataFrame()\n",
    "for i in tqdm(test[important_feature[1:]].columns):\n",
    "    test_woe = woebin_ply(test[[i]], bins_adj)\n",
    "  #  test_woe = test_woe[i+'_woe']\n",
    "    test_woe_all = pd.concat([test_woe_all,test_woe],axis = 1)\n",
    "test[important_feature[1:]] = test_woe_all.copy()"
   ]
  },
  {
   "cell_type": "code",
   "execution_count": 96,
   "metadata": {},
   "outputs": [
    {
     "name": "stderr",
     "output_type": "stream",
     "text": [
      "C:\\ProgramData\\Anaconda3\\lib\\site-packages\\pandas\\core\\frame.py:3787: SettingWithCopyWarning: \n",
      "A value is trying to be set on a copy of a slice from a DataFrame\n",
      "\n",
      "See the caveats in the documentation: http://pandas.pydata.org/pandas-docs/stable/indexing.html#indexing-view-versus-copy\n",
      "  downcast=downcast, **kwargs)\n"
     ]
    }
   ],
   "source": [
    "#Job_Type中有108个数据属于训练集没有的数据集，故为空\n",
    "#查看数据的缺失程度\n",
    "test.isnull().sum(axis=0).sort_values(ascending=False)/float(len(test))\n",
    "#用0填充\n",
    "test.fillna(0,inplace = True)"
   ]
  },
  {
   "cell_type": "code",
   "execution_count": 97,
   "metadata": {},
   "outputs": [],
   "source": [
    "X_test =test[important_feature[1:]]"
   ]
  },
  {
   "cell_type": "code",
   "execution_count": 98,
   "metadata": {},
   "outputs": [
    {
     "data": {
      "text/plain": [
       "(63532, 37)"
      ]
     },
     "execution_count": 98,
     "metadata": {},
     "output_type": "execute_result"
    }
   ],
   "source": [
    "X_test.shape"
   ]
  },
  {
   "cell_type": "code",
   "execution_count": 99,
   "metadata": {},
   "outputs": [],
   "source": [
    "#应用模型进行预测\n",
    "#result=lr.predict_proba(test[important_feature[1:]])\n",
    "test_pred_lr = lr.predict_proba(X_test[important_feature[1:]])[:,1]\n",
    "test_pred_tree = tree.predict_proba(X_test[important_feature[1:]])[:,1]\n",
    "test_pred_GBDT = GBDT.predict_proba(X_test[important_feature[1:]])[:,1]"
   ]
  },
  {
   "cell_type": "code",
   "execution_count": 100,
   "metadata": {
    "scrolled": true
   },
   "outputs": [
    {
     "data": {
      "text/plain": [
       "array([ 0.60062613,  0.44376191,  0.11525519, ...,  0.28237773,\n",
       "        0.17097636,  0.46247512])"
      ]
     },
     "execution_count": 100,
     "metadata": {},
     "output_type": "execute_result"
    }
   ],
   "source": [
    "test_pred_lr"
   ]
  },
  {
   "cell_type": "code",
   "execution_count": 101,
   "metadata": {},
   "outputs": [
    {
     "data": {
      "text/plain": [
       "array([ 0.55151515,  0.14520202,  0.13468379, ...,  0.16994894,\n",
       "        0.14520202,  0.13468379])"
      ]
     },
     "execution_count": 101,
     "metadata": {},
     "output_type": "execute_result"
    }
   ],
   "source": [
    "test_pred_tree"
   ]
  },
  {
   "cell_type": "code",
   "execution_count": 102,
   "metadata": {},
   "outputs": [
    {
     "data": {
      "text/plain": [
       "array([ 0.37073459,  0.38235487,  0.13369938, ...,  0.27057905,\n",
       "        0.17895433,  0.29661668])"
      ]
     },
     "execution_count": 102,
     "metadata": {},
     "output_type": "execute_result"
    }
   ],
   "source": [
    "test_pred_GBDT"
   ]
  },
  {
   "cell_type": "code",
   "execution_count": 103,
   "metadata": {},
   "outputs": [],
   "source": [
    "#查看预测结果\n",
    "\n",
    "#对Y值重命名\n",
    "data= testset.rename(columns={'CUST_TYPE':'loan_status'})"
   ]
  },
  {
   "cell_type": "code",
   "execution_count": 104,
   "metadata": {},
   "outputs": [],
   "source": [
    "#违约状态定义  定义目标变量\n",
    "def loan_status_coding(status_data,dic):\n",
    "    temp_data=pd.Series(status_data,copy=True)\n",
    "    for key,values in dic.items():\n",
    "        temp_data.replace(key,values,inplace=True)\n",
    "    return temp_data\n",
    "data['loan_status']=loan_status_coding(data['loan_status'],\n",
    "                                       {'G':0,'B':1})\n",
    "#获得y变量\n",
    "y_test = data.loan_status"
   ]
  },
  {
   "cell_type": "code",
   "execution_count": 145,
   "metadata": {},
   "outputs": [
    {
     "name": "stderr",
     "output_type": "stream",
     "text": [
      "E:\\studyingPy\\C_card\\lending_club\\perf.py:38: FutureWarning: Sorting because non-concatenation axis is not aligned. A future version\n",
      "of pandas will change to not sort by default.\n",
      "\n",
      "To accept the future behavior, pass 'sort=True'.\n",
      "\n",
      "To retain the current behavior and silence the warning, pass sort=False\n",
      "\n",
      "  ], ignore_index=True)\n"
     ]
    },
    {
     "data": {
      "image/png": "[encoded data removed]",
      "text/plain": [
       "<Figure size 432x288 with 2 Axes>"
      ]
     },
     "metadata": {},
     "output_type": "display_data"
    }
   ],
   "source": [
    "#画出逻辑回归证集的ROC和KS曲线\n",
    "test_perf = perf_eva(y_test, test_pred_lr, title = \"lr-test\")"
   ]
  },
  {
   "cell_type": "code",
   "execution_count": 137,
   "metadata": {},
   "outputs": [
    {
     "name": "stderr",
     "output_type": "stream",
     "text": [
      "E:\\studyingPy\\C_card\\lending_club\\perf.py:38: FutureWarning: Sorting because non-concatenation axis is not aligned. A future version\n",
      "of pandas will change to not sort by default.\n",
      "\n",
      "To accept the future behavior, pass 'sort=True'.\n",
      "\n",
      "To retain the current behavior and silence the warning, pass sort=False\n",
      "\n",
      "  ], ignore_index=True)\n"
     ]
    },
    {
     "data": {
      "image/png": "[encoded data removed]",
      "text/plain": [
       "<Figure size 432x288 with 2 Axes>"
      ]
     },
     "metadata": {},
     "output_type": "display_data"
    }
   ],
   "source": [
    "#画出决策树的ROC和KS曲线\n",
    "test_perf = perf_eva(y_test, test_pred_tree, title = \"tree-test\")"
   ]
  },
  {
   "cell_type": "code",
   "execution_count": 107,
   "metadata": {},
   "outputs": [
    {
     "name": "stderr",
     "output_type": "stream",
     "text": [
      "E:\\studyingPy\\C_card\\lending_club\\perf.py:38: FutureWarning: Sorting because non-concatenation axis is not aligned. A future version\n",
      "of pandas will change to not sort by default.\n",
      "\n",
      "To accept the future behavior, pass 'sort=True'.\n",
      "\n",
      "To retain the current behavior and silence the warning, pass sort=False\n",
      "\n",
      "  ], ignore_index=True)\n"
     ]
    },
    {
     "data": {
      "image/png": "[encoded data removed]",
      "text/plain": [
       "<Figure size 432x288 with 2 Axes>"
      ]
     },
     "metadata": {},
     "output_type": "display_data"
    }
   ],
   "source": [
    "#画出梯度提升树证集的ROC和KS曲线\n",
    "test_perf = perf_eva(y_test, test_pred_GBDT, title = \"GBDT-test\")"
   ]
  },
  {
   "cell_type": "code",
   "execution_count": 125,
   "metadata": {},
   "outputs": [
    {
     "data": {
      "text/plain": [
       "63532"
      ]
     },
     "execution_count": 125,
     "metadata": {},
     "output_type": "execute_result"
    }
   ],
   "source": [
    "len(y_test)"
   ]
  },
  {
   "cell_type": "code",
   "execution_count": 126,
   "metadata": {},
   "outputs": [
    {
     "data": {
      "text/plain": [
       "63532"
      ]
     },
     "execution_count": 126,
     "metadata": {},
     "output_type": "execute_result"
    }
   ],
   "source": [
    "len(test_pred_lr)"
   ]
  },
  {
   "cell_type": "code",
   "execution_count": 140,
   "metadata": {},
   "outputs": [],
   "source": [
    "#自行定义cutoff值\n",
    "cutoff = sum(test_pred_lr)/len(test_pred_lr)\n",
    "y_pred = [*map(lambda x:0 if x< cutoff else 1,test_pred_lr)]"
   ]
  },
  {
   "cell_type": "code",
   "execution_count": 143,
   "metadata": {},
   "outputs": [
    {
     "name": "stdout",
     "output_type": "stream",
     "text": [
      "Accuracy : 0.756\n",
      "Recall :0.6447\n",
      "AUC Score (Testing): 0.715549\n"
     ]
    }
   ],
   "source": [
    "#获得逻辑回归的预测效果\n",
    "import pandas as pd\n",
    "from sklearn import ensemble,cross_validation, metrics\n",
    "#y_pred = lr.predict(X_test[important_feature[1:]])\n",
    "Acc = metrics.accuracy_score(y_test, y_pred)\n",
    "Rec = metrics.recall_score(y_test, y_pred)\n",
    "print( \"Accuracy : %.4g\" % Acc)\n",
    "print(\"Recall :%.4g\" % Rec)\n",
    "print (\"AUC Score (Testing): %f\" % metrics.roc_auc_score(y_test, y_pred))"
   ]
  },
  {
   "cell_type": "code",
   "execution_count": 136,
   "metadata": {},
   "outputs": [
    {
     "name": "stdout",
     "output_type": "stream",
     "text": [
      "Accuracy : 0.8058\n",
      "Recall :0.171\n",
      "AUC Score (Testing): 0.651069\n"
     ]
    }
   ],
   "source": [
    "#获得决策树的预测效果\n",
    "y_pred = tree.predict(X_test[important_feature[1:]])\n",
    "Acc = metrics.accuracy_score(y_test, y_pred)\n",
    "Rec = metrics.recall_score(y_test, y_pred)\n",
    "print( \"Accuracy : %.4g\" % Acc)\n",
    "print(\"Recall :%.4g\" % Rec)\n",
    "print (\"AUC Score (Testing): %f\" % metrics.roc_auc_score(y_test, test_pred_tree))"
   ]
  },
  {
   "cell_type": "code",
   "execution_count": 135,
   "metadata": {},
   "outputs": [
    {
     "name": "stdout",
     "output_type": "stream",
     "text": [
      "Accuracy : 0.7921\n",
      "Recall :0.04294\n",
      "AUC Score (Testing): 0.752735\n"
     ]
    }
   ],
   "source": [
    "#获得梯度提升树的预测效果\n",
    "y_pred = GBDT.predict(X_test[important_feature[1:]])\n",
    "Acc = metrics.accuracy_score(y_test, y_pred)\n",
    "Rec = metrics.recall_score(y_test, y_pred)\n",
    "print( \"Accuracy : %.4g\" % Acc)\n",
    "print(\"Recall :%.4g\" % Rec)\n",
    "print (\"AUC Score (Testing): %f\" % metrics.roc_auc_score(y_test, test_pred_GBDT))"
   ]
  },
  {
   "cell_type": "code",
   "execution_count": 110,
   "metadata": {},
   "outputs": [],
   "source": [
    "test_pred = test_pred_lr"
   ]
  },
  {
   "cell_type": "code",
   "execution_count": 117,
   "metadata": {},
   "outputs": [
    {
     "name": "stderr",
     "output_type": "stream",
     "text": [
      "C:\\ProgramData\\Anaconda3\\lib\\site-packages\\ipykernel_launcher.py:1: SettingWithCopyWarning: \n",
      "A value is trying to be set on a copy of a slice from a DataFrame.\n",
      "Try using .loc[row_indexer,col_indexer] = value instead\n",
      "\n",
      "See the caveats in the documentation: http://pandas.pydata.org/pandas-docs/stable/indexing.html#indexing-view-versus-copy\n",
      "  \"\"\"Entry point for launching an IPython kernel.\n"
     ]
    }
   ],
   "source": [
    "test[\"Prob_for_Bad\"]=test_pred"
   ]
  },
  {
   "cell_type": "code",
   "execution_count": 118,
   "metadata": {},
   "outputs": [
    {
     "data": {
      "text/plain": [
       "(63532, 39)"
      ]
     },
     "execution_count": 118,
     "metadata": {},
     "output_type": "execute_result"
    }
   ],
   "source": [
    "test.shape"
   ]
  },
  {
   "cell_type": "code",
   "execution_count": 119,
   "metadata": {},
   "outputs": [],
   "source": [
    "result = test[['ID_NO_IDENT','Prob_for_Bad']]"
   ]
  },
  {
   "cell_type": "code",
   "execution_count": 120,
   "metadata": {},
   "outputs": [],
   "source": [
    "result.to_csv(\"result.csv\",index)"
   ]
  }
 ],
 "metadata": {
  "kernelspec": {
   "display_name": "Python 3",
   "language": "python",
   "name": "python3"
  },
  "language_info": {
   "codemirror_mode": {
    "name": "ipython",
    "version": 3
   },
   "file_extension": ".py",
   "mimetype": "text/x-python",
   "name": "python",
   "nbconvert_exporter": "python",
   "pygments_lexer": "ipython3",
   "version": "3.6.5"
  }
 },
 "nbformat": 4,
 "nbformat_minor": 2
}
